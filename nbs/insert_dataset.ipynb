{
 "cells": [
  {
   "cell_type": "code",
   "execution_count": 1,
   "metadata": {},
   "outputs": [
    {
     "name": "stderr",
     "output_type": "stream",
     "text": [
      "\u001b[32m2024-12-18 17:07:51.948\u001b[0m | \u001b[1mINFO    \u001b[0m | \u001b[36mpgsql_search.loader\u001b[0m:\u001b[36m__init__\u001b[0m:\u001b[36m15\u001b[0m - \u001b[1mLoading dataset: UCSC-VLAA/Recap-COCO-30K\u001b[0m\n",
      "\u001b[32m2024-12-18 17:07:51.956\u001b[0m | \u001b[1mINFO    \u001b[0m | \u001b[36mpgsql_search.loader\u001b[0m:\u001b[36msave_images\u001b[0m:\u001b[36m44\u001b[0m - \u001b[1mSaving images to folder: ../data/images100\u001b[0m\n"
     ]
    },
    {
     "data": {
      "application/vnd.jupyter.widget-view+json": {
       "model_id": "65d516ae0aa946bebc603cc0a70a9115",
       "version_major": 2,
       "version_minor": 0
      },
      "text/plain": [
       "Saving images (num_proc=8):   0%|          | 0/100 [00:00<?, ? examples/s]"
      ]
     },
     "metadata": {},
     "output_type": "display_data"
    },
    {
     "data": {
      "text/plain": [
       "Dataset({\n",
       "    features: ['image_filepath', 'caption'],\n",
       "    num_rows: 100\n",
       "})"
      ]
     },
     "execution_count": 1,
     "metadata": {},
     "output_type": "execute_result"
    }
   ],
   "source": [
    "from pgsql_search.loader import HuggingFaceDatasets\n",
    "\n",
    "ds = HuggingFaceDatasets(\"UCSC-VLAA/Recap-COCO-30K\")\n",
    "ds.dataset = ds.dataset.shuffle()\n",
    "ds = ds.select(list(range(100)))\n",
    "ds.save_images(\"../data/images100\")\n",
    "ds = ds.select_columns([\"image_filepath\", \"caption\"])\n",
    "ds.dataset\n"
   ]
  },
  {
   "cell_type": "code",
   "execution_count": 2,
   "metadata": {},
   "outputs": [
    {
     "data": {
      "text/html": [
       "<div>\n",
       "<style scoped>\n",
       "    .dataframe tbody tr th:only-of-type {\n",
       "        vertical-align: middle;\n",
       "    }\n",
       "\n",
       "    .dataframe tbody tr th {\n",
       "        vertical-align: top;\n",
       "    }\n",
       "\n",
       "    .dataframe thead th {\n",
       "        text-align: right;\n",
       "    }\n",
       "</style>\n",
       "<table border=\"1\" class=\"dataframe\">\n",
       "  <thead>\n",
       "    <tr style=\"text-align: right;\">\n",
       "      <th></th>\n",
       "      <th>image_filepath</th>\n",
       "      <th>caption</th>\n",
       "    </tr>\n",
       "  </thead>\n",
       "  <tbody>\n",
       "    <tr>\n",
       "      <th>0</th>\n",
       "      <td>../data/images100/364010.jpg</td>\n",
       "      <td>Two small dogs sitting on a towel in the back ...</td>\n",
       "    </tr>\n",
       "    <tr>\n",
       "      <th>1</th>\n",
       "      <td>../data/images100/525909.jpg</td>\n",
       "      <td>The orange cat looks at a television set in a ...</td>\n",
       "    </tr>\n",
       "    <tr>\n",
       "      <th>2</th>\n",
       "      <td>../data/images100/40881.jpg</td>\n",
       "      <td>A bowl is filled with meat and different types...</td>\n",
       "    </tr>\n",
       "    <tr>\n",
       "      <th>3</th>\n",
       "      <td>../data/images100/252986.jpg</td>\n",
       "      <td>Small wooden bench sitting in the middle of a ...</td>\n",
       "    </tr>\n",
       "    <tr>\n",
       "      <th>4</th>\n",
       "      <td>../data/images100/578418.jpg</td>\n",
       "      <td>A delicious looking salad with tuna and bread.</td>\n",
       "    </tr>\n",
       "    <tr>\n",
       "      <th>...</th>\n",
       "      <td>...</td>\n",
       "      <td>...</td>\n",
       "    </tr>\n",
       "    <tr>\n",
       "      <th>95</th>\n",
       "      <td>../data/images100/39502.jpg</td>\n",
       "      <td>An outdoor kitchen with a furnace and ice box.</td>\n",
       "    </tr>\n",
       "    <tr>\n",
       "      <th>96</th>\n",
       "      <td>../data/images100/436164.jpg</td>\n",
       "      <td>a horse pulls a cart with some people sitting ...</td>\n",
       "    </tr>\n",
       "    <tr>\n",
       "      <th>97</th>\n",
       "      <td>../data/images100/379077.jpg</td>\n",
       "      <td>A dog standing in the snow with some frisbees.</td>\n",
       "    </tr>\n",
       "    <tr>\n",
       "      <th>98</th>\n",
       "      <td>../data/images100/464251.jpg</td>\n",
       "      <td>a nice bird standing on a bench gazing at</td>\n",
       "    </tr>\n",
       "    <tr>\n",
       "      <th>99</th>\n",
       "      <td>../data/images100/429033.jpg</td>\n",
       "      <td>Someone is taking notes on their laptop in an ...</td>\n",
       "    </tr>\n",
       "  </tbody>\n",
       "</table>\n",
       "<p>100 rows × 2 columns</p>\n",
       "</div>"
      ],
      "text/plain": [
       "                  image_filepath  \\\n",
       "0   ../data/images100/364010.jpg   \n",
       "1   ../data/images100/525909.jpg   \n",
       "2    ../data/images100/40881.jpg   \n",
       "3   ../data/images100/252986.jpg   \n",
       "4   ../data/images100/578418.jpg   \n",
       "..                           ...   \n",
       "95   ../data/images100/39502.jpg   \n",
       "96  ../data/images100/436164.jpg   \n",
       "97  ../data/images100/379077.jpg   \n",
       "98  ../data/images100/464251.jpg   \n",
       "99  ../data/images100/429033.jpg   \n",
       "\n",
       "                                              caption  \n",
       "0   Two small dogs sitting on a towel in the back ...  \n",
       "1   The orange cat looks at a television set in a ...  \n",
       "2   A bowl is filled with meat and different types...  \n",
       "3   Small wooden bench sitting in the middle of a ...  \n",
       "4      A delicious looking salad with tuna and bread.  \n",
       "..                                                ...  \n",
       "95     An outdoor kitchen with a furnace and ice box.  \n",
       "96  a horse pulls a cart with some people sitting ...  \n",
       "97     A dog standing in the snow with some frisbees.  \n",
       "98          a nice bird standing on a bench gazing at  \n",
       "99  Someone is taking notes on their laptop in an ...  \n",
       "\n",
       "[100 rows x 2 columns]"
      ]
     },
     "execution_count": 2,
     "metadata": {},
     "output_type": "execute_result"
    }
   ],
   "source": [
    "df = ds.dataset.to_pandas()\n",
    "df"
   ]
  },
  {
   "cell_type": "code",
   "execution_count": 3,
   "metadata": {},
   "outputs": [],
   "source": [
    "from pgsql_search.database import PostgreSQLDatabase, ColumnType"
   ]
  },
  {
   "cell_type": "code",
   "execution_count": 4,
   "metadata": {},
   "outputs": [
    {
     "name": "stderr",
     "output_type": "stream",
     "text": [
      "\u001b[32m2024-12-18 17:07:52.478\u001b[0m | \u001b[1mINFO    \u001b[0m | \u001b[36mpgsql_search.database\u001b[0m:\u001b[36mconnect\u001b[0m:\u001b[36m87\u001b[0m - \u001b[1mConnected to database\u001b[0m\n",
      "\u001b[32m2024-12-18 17:07:52.482\u001b[0m | \u001b[1mINFO    \u001b[0m | \u001b[36mpgsql_search.database\u001b[0m:\u001b[36msetup_pgvector_extension\u001b[0m:\u001b[36m104\u001b[0m - \u001b[1mpgvector extension initialized\u001b[0m\n",
      "\u001b[32m2024-12-18 17:07:52.486\u001b[0m | \u001b[1mINFO    \u001b[0m | \u001b[36mpgsql_search.database\u001b[0m:\u001b[36minitialize_table\u001b[0m:\u001b[36m126\u001b[0m - \u001b[1mInitialized table 'image_metadata' with ID column 'id'\u001b[0m\n",
      "\u001b[32m2024-12-18 17:07:52.488\u001b[0m | \u001b[1mINFO    \u001b[0m | \u001b[36mpgsql_search.database\u001b[0m:\u001b[36madd_columns\u001b[0m:\u001b[36m175\u001b[0m - \u001b[1mAdded 1 new columns to image_metadata\u001b[0m\n",
      "\u001b[32m2024-12-18 17:07:52.489\u001b[0m | \u001b[1mINFO    \u001b[0m | \u001b[36mpgsql_search.database\u001b[0m:\u001b[36madd_columns\u001b[0m:\u001b[36m175\u001b[0m - \u001b[1mAdded 1 new columns to image_metadata\u001b[0m\n",
      "\u001b[32m2024-12-18 17:07:52.501\u001b[0m | \u001b[1mINFO    \u001b[0m | \u001b[36mpgsql_search.database\u001b[0m:\u001b[36minsert_dataframe\u001b[0m:\u001b[36m227\u001b[0m - \u001b[1mInserted batch 1 (100/100 rows)\u001b[0m\n",
      "\u001b[32m2024-12-18 17:07:52.501\u001b[0m | \u001b[1mINFO    \u001b[0m | \u001b[36mpgsql_search.database\u001b[0m:\u001b[36minsert_dataframe\u001b[0m:\u001b[36m231\u001b[0m - \u001b[1mSuccessfully inserted 100 rows into image_metadata\u001b[0m\n",
      "\u001b[32m2024-12-18 17:07:52.501\u001b[0m | \u001b[1mINFO    \u001b[0m | \u001b[36mpgsql_search.database\u001b[0m:\u001b[36mdisconnect\u001b[0m:\u001b[36m96\u001b[0m - \u001b[1mDisconnected from database\u001b[0m\n"
     ]
    }
   ],
   "source": [
    "with PostgreSQLDatabase(\"retrieval_db\") as db:\n",
    "    # First, create the table with just an ID column\n",
    "    db.initialize_table(\"image_metadata\")\n",
    "    db.add_column(\"image_filepath\", ColumnType.TEXT, nullable=False)\n",
    "    db.add_column(\"caption\", ColumnType.TEXT, nullable=True)\n",
    "\n",
    "\n",
    "    db.insert_dataframe(df)"
   ]
  },
  {
   "cell_type": "code",
   "execution_count": null,
   "metadata": {},
   "outputs": [],
   "source": []
  },
  {
   "cell_type": "code",
   "execution_count": null,
   "metadata": {},
   "outputs": [],
   "source": []
  }
 ],
 "metadata": {
  "kernelspec": {
   "display_name": "default",
   "language": "python",
   "name": "python3"
  },
  "language_info": {
   "codemirror_mode": {
    "name": "ipython",
    "version": 3
   },
   "file_extension": ".py",
   "mimetype": "text/x-python",
   "name": "python",
   "nbconvert_exporter": "python",
   "pygments_lexer": "ipython3",
   "version": "3.12.8"
  }
 },
 "nbformat": 4,
 "nbformat_minor": 2
}

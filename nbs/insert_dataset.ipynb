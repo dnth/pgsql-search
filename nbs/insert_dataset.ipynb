{
 "cells": [
  {
   "cell_type": "code",
   "execution_count": 1,
   "metadata": {},
   "outputs": [
    {
     "name": "stderr",
     "output_type": "stream",
     "text": [
      "\u001b[32m2024-12-18 23:29:09.423\u001b[0m | \u001b[1mINFO    \u001b[0m | \u001b[36mpgsql_search.loader\u001b[0m:\u001b[36m__init__\u001b[0m:\u001b[36m15\u001b[0m - \u001b[1mLoading dataset: UCSC-VLAA/Recap-COCO-30K\u001b[0m\n",
      "\u001b[32m2024-12-18 23:29:09.424\u001b[0m | \u001b[1mINFO    \u001b[0m | \u001b[36mpgsql_search.loader\u001b[0m:\u001b[36msave_images\u001b[0m:\u001b[36m44\u001b[0m - \u001b[1mSaving images to folder: ../data/images\u001b[0m\n"
     ]
    },
    {
     "data": {
      "application/vnd.jupyter.widget-view+json": {
       "model_id": "dcf6cc85505b46018f6a57b1c8b3b5a0",
       "version_major": 2,
       "version_minor": 0
      },
      "text/plain": [
       "Saving images (num_proc=8):   0%|          | 0/30504 [00:00<?, ? examples/s]"
      ]
     },
     "metadata": {},
     "output_type": "display_data"
    },
    {
     "data": {
      "text/plain": [
       "Dataset({\n",
       "    features: ['image_filepath', 'caption'],\n",
       "    num_rows: 30504\n",
       "})"
      ]
     },
     "execution_count": 1,
     "metadata": {},
     "output_type": "execute_result"
    }
   ],
   "source": [
    "from pgsql_search.loader import HuggingFaceDatasets\n",
    "\n",
    "ds = HuggingFaceDatasets(\"UCSC-VLAA/Recap-COCO-30K\")\n",
    "# ds.dataset = ds.dataset.shuffle()\n",
    "# ds = ds.select(list(range(100)))\n",
    "ds.save_images(\"../data/images\")\n",
    "ds = ds.select_columns([\"image_filepath\", \"caption\"])\n",
    "ds.dataset\n"
   ]
  },
  {
   "cell_type": "code",
   "execution_count": 2,
   "metadata": {},
   "outputs": [
    {
     "data": {
      "text/html": [
       "<div>\n",
       "<style scoped>\n",
       "    .dataframe tbody tr th:only-of-type {\n",
       "        vertical-align: middle;\n",
       "    }\n",
       "\n",
       "    .dataframe tbody tr th {\n",
       "        vertical-align: top;\n",
       "    }\n",
       "\n",
       "    .dataframe thead th {\n",
       "        text-align: right;\n",
       "    }\n",
       "</style>\n",
       "<table border=\"1\" class=\"dataframe\">\n",
       "  <thead>\n",
       "    <tr style=\"text-align: right;\">\n",
       "      <th></th>\n",
       "      <th>image_filepath</th>\n",
       "      <th>caption</th>\n",
       "    </tr>\n",
       "  </thead>\n",
       "  <tbody>\n",
       "    <tr>\n",
       "      <th>0</th>\n",
       "      <td>../data/images/53120.jpg</td>\n",
       "      <td>Several horses with riders crossing a body of ...</td>\n",
       "    </tr>\n",
       "    <tr>\n",
       "      <th>1</th>\n",
       "      <td>../data/images/325873.jpg</td>\n",
       "      <td>A woman and a child sit on the floor and inter...</td>\n",
       "    </tr>\n",
       "    <tr>\n",
       "      <th>2</th>\n",
       "      <td>../data/images/217937.jpg</td>\n",
       "      <td>There is an open face sandwich and a fork on t...</td>\n",
       "    </tr>\n",
       "    <tr>\n",
       "      <th>3</th>\n",
       "      <td>../data/images/196865.jpg</td>\n",
       "      <td>a pillow a bed a table and two books</td>\n",
       "    </tr>\n",
       "    <tr>\n",
       "      <th>4</th>\n",
       "      <td>../data/images/4229.jpg</td>\n",
       "      <td>Three elephants in a field next to each other.</td>\n",
       "    </tr>\n",
       "    <tr>\n",
       "      <th>...</th>\n",
       "      <td>...</td>\n",
       "      <td>...</td>\n",
       "    </tr>\n",
       "    <tr>\n",
       "      <th>30499</th>\n",
       "      <td>../data/images/289222.jpg</td>\n",
       "      <td>The light shows safe for animal crossing on th...</td>\n",
       "    </tr>\n",
       "    <tr>\n",
       "      <th>30500</th>\n",
       "      <td>../data/images/402615.jpg</td>\n",
       "      <td>A crowd of people watching an indoor tennis ma...</td>\n",
       "    </tr>\n",
       "    <tr>\n",
       "      <th>30501</th>\n",
       "      <td>../data/images/522959.jpg</td>\n",
       "      <td>A street corner has a sign, and across the str...</td>\n",
       "    </tr>\n",
       "    <tr>\n",
       "      <th>30502</th>\n",
       "      <td>../data/images/136833.jpg</td>\n",
       "      <td>motorcycles parked on the side of a road near ...</td>\n",
       "    </tr>\n",
       "    <tr>\n",
       "      <th>30503</th>\n",
       "      <td>../data/images/384092.jpg</td>\n",
       "      <td>A man doing pushups with a doughnut in his mouth.</td>\n",
       "    </tr>\n",
       "  </tbody>\n",
       "</table>\n",
       "<p>30504 rows × 2 columns</p>\n",
       "</div>"
      ],
      "text/plain": [
       "                  image_filepath  \\\n",
       "0       ../data/images/53120.jpg   \n",
       "1      ../data/images/325873.jpg   \n",
       "2      ../data/images/217937.jpg   \n",
       "3      ../data/images/196865.jpg   \n",
       "4        ../data/images/4229.jpg   \n",
       "...                          ...   \n",
       "30499  ../data/images/289222.jpg   \n",
       "30500  ../data/images/402615.jpg   \n",
       "30501  ../data/images/522959.jpg   \n",
       "30502  ../data/images/136833.jpg   \n",
       "30503  ../data/images/384092.jpg   \n",
       "\n",
       "                                                 caption  \n",
       "0      Several horses with riders crossing a body of ...  \n",
       "1      A woman and a child sit on the floor and inter...  \n",
       "2      There is an open face sandwich and a fork on t...  \n",
       "3                   a pillow a bed a table and two books  \n",
       "4         Three elephants in a field next to each other.  \n",
       "...                                                  ...  \n",
       "30499  The light shows safe for animal crossing on th...  \n",
       "30500  A crowd of people watching an indoor tennis ma...  \n",
       "30501  A street corner has a sign, and across the str...  \n",
       "30502  motorcycles parked on the side of a road near ...  \n",
       "30503  A man doing pushups with a doughnut in his mouth.  \n",
       "\n",
       "[30504 rows x 2 columns]"
      ]
     },
     "execution_count": 2,
     "metadata": {},
     "output_type": "execute_result"
    }
   ],
   "source": [
    "df = ds.dataset.to_pandas()\n",
    "df"
   ]
  },
  {
   "cell_type": "code",
   "execution_count": 3,
   "metadata": {},
   "outputs": [
    {
     "name": "stderr",
     "output_type": "stream",
     "text": [
      "\u001b[32m2024-12-18 23:29:42.890\u001b[0m | \u001b[1mINFO    \u001b[0m | \u001b[36mpgsql_search.database\u001b[0m:\u001b[36mcreate_database\u001b[0m:\u001b[36m344\u001b[0m - \u001b[1mDatabase 'my_database' already exists\u001b[0m\n"
     ]
    }
   ],
   "source": [
    "from pgsql_search.database import PostgreSQLDatabase, ColumnType\n",
    "\n",
    "PostgreSQLDatabase.create_database(\"my_database\")"
   ]
  },
  {
   "cell_type": "code",
   "execution_count": 4,
   "metadata": {},
   "outputs": [
    {
     "name": "stderr",
     "output_type": "stream",
     "text": [
      "\u001b[32m2024-12-18 23:29:42.906\u001b[0m | \u001b[1mINFO    \u001b[0m | \u001b[36mpgsql_search.database\u001b[0m:\u001b[36mconnect\u001b[0m:\u001b[36m112\u001b[0m - \u001b[1mConnected to database\u001b[0m\n",
      "\u001b[32m2024-12-18 23:29:42.911\u001b[0m | \u001b[1mINFO    \u001b[0m | \u001b[36mpgsql_search.database\u001b[0m:\u001b[36msetup_pgvector_extension\u001b[0m:\u001b[36m129\u001b[0m - \u001b[1mpgvector extension initialized\u001b[0m\n",
      "\u001b[32m2024-12-18 23:29:42.919\u001b[0m | \u001b[1mINFO    \u001b[0m | \u001b[36mpgsql_search.database\u001b[0m:\u001b[36minitialize_table\u001b[0m:\u001b[36m151\u001b[0m - \u001b[1mInitialized table 'image_metadata' with ID column 'id'\u001b[0m\n",
      "\u001b[32m2024-12-18 23:29:42.922\u001b[0m | \u001b[1mINFO    \u001b[0m | \u001b[36mpgsql_search.database\u001b[0m:\u001b[36madd_columns\u001b[0m:\u001b[36m200\u001b[0m - \u001b[1mAdded 1 new columns to image_metadata\u001b[0m\n",
      "\u001b[32m2024-12-18 23:29:42.923\u001b[0m | \u001b[1mINFO    \u001b[0m | \u001b[36mpgsql_search.database\u001b[0m:\u001b[36madd_columns\u001b[0m:\u001b[36m200\u001b[0m - \u001b[1mAdded 1 new columns to image_metadata\u001b[0m\n",
      "\u001b[32m2024-12-18 23:29:42.962\u001b[0m | \u001b[1mINFO    \u001b[0m | \u001b[36mpgsql_search.database\u001b[0m:\u001b[36minsert_dataframe\u001b[0m:\u001b[36m252\u001b[0m - \u001b[1mInserted batch 1 (1000/30504 rows)\u001b[0m\n",
      "\u001b[32m2024-12-18 23:29:42.990\u001b[0m | \u001b[1mINFO    \u001b[0m | \u001b[36mpgsql_search.database\u001b[0m:\u001b[36minsert_dataframe\u001b[0m:\u001b[36m252\u001b[0m - \u001b[1mInserted batch 2 (2000/30504 rows)\u001b[0m\n",
      "\u001b[32m2024-12-18 23:29:43.028\u001b[0m | \u001b[1mINFO    \u001b[0m | \u001b[36mpgsql_search.database\u001b[0m:\u001b[36minsert_dataframe\u001b[0m:\u001b[36m252\u001b[0m - \u001b[1mInserted batch 3 (3000/30504 rows)\u001b[0m\n",
      "\u001b[32m2024-12-18 23:29:43.049\u001b[0m | \u001b[1mINFO    \u001b[0m | \u001b[36mpgsql_search.database\u001b[0m:\u001b[36minsert_dataframe\u001b[0m:\u001b[36m252\u001b[0m - \u001b[1mInserted batch 4 (4000/30504 rows)\u001b[0m\n",
      "\u001b[32m2024-12-18 23:29:43.084\u001b[0m | \u001b[1mINFO    \u001b[0m | \u001b[36mpgsql_search.database\u001b[0m:\u001b[36minsert_dataframe\u001b[0m:\u001b[36m252\u001b[0m - \u001b[1mInserted batch 5 (5000/30504 rows)\u001b[0m\n",
      "\u001b[32m2024-12-18 23:29:43.110\u001b[0m | \u001b[1mINFO    \u001b[0m | \u001b[36mpgsql_search.database\u001b[0m:\u001b[36minsert_dataframe\u001b[0m:\u001b[36m252\u001b[0m - \u001b[1mInserted batch 6 (6000/30504 rows)\u001b[0m\n",
      "\u001b[32m2024-12-18 23:29:43.126\u001b[0m | \u001b[1mINFO    \u001b[0m | \u001b[36mpgsql_search.database\u001b[0m:\u001b[36minsert_dataframe\u001b[0m:\u001b[36m252\u001b[0m - \u001b[1mInserted batch 7 (7000/30504 rows)\u001b[0m\n",
      "\u001b[32m2024-12-18 23:29:43.148\u001b[0m | \u001b[1mINFO    \u001b[0m | \u001b[36mpgsql_search.database\u001b[0m:\u001b[36minsert_dataframe\u001b[0m:\u001b[36m252\u001b[0m - \u001b[1mInserted batch 8 (8000/30504 rows)\u001b[0m\n",
      "\u001b[32m2024-12-18 23:29:43.174\u001b[0m | \u001b[1mINFO    \u001b[0m | \u001b[36mpgsql_search.database\u001b[0m:\u001b[36minsert_dataframe\u001b[0m:\u001b[36m252\u001b[0m - \u001b[1mInserted batch 9 (9000/30504 rows)\u001b[0m\n",
      "\u001b[32m2024-12-18 23:29:43.194\u001b[0m | \u001b[1mINFO    \u001b[0m | \u001b[36mpgsql_search.database\u001b[0m:\u001b[36minsert_dataframe\u001b[0m:\u001b[36m252\u001b[0m - \u001b[1mInserted batch 10 (10000/30504 rows)\u001b[0m\n",
      "\u001b[32m2024-12-18 23:29:43.211\u001b[0m | \u001b[1mINFO    \u001b[0m | \u001b[36mpgsql_search.database\u001b[0m:\u001b[36minsert_dataframe\u001b[0m:\u001b[36m252\u001b[0m - \u001b[1mInserted batch 11 (11000/30504 rows)\u001b[0m\n",
      "\u001b[32m2024-12-18 23:29:43.237\u001b[0m | \u001b[1mINFO    \u001b[0m | \u001b[36mpgsql_search.database\u001b[0m:\u001b[36minsert_dataframe\u001b[0m:\u001b[36m252\u001b[0m - \u001b[1mInserted batch 12 (12000/30504 rows)\u001b[0m\n",
      "\u001b[32m2024-12-18 23:29:43.252\u001b[0m | \u001b[1mINFO    \u001b[0m | \u001b[36mpgsql_search.database\u001b[0m:\u001b[36minsert_dataframe\u001b[0m:\u001b[36m252\u001b[0m - \u001b[1mInserted batch 13 (13000/30504 rows)\u001b[0m\n",
      "\u001b[32m2024-12-18 23:29:43.274\u001b[0m | \u001b[1mINFO    \u001b[0m | \u001b[36mpgsql_search.database\u001b[0m:\u001b[36minsert_dataframe\u001b[0m:\u001b[36m252\u001b[0m - \u001b[1mInserted batch 14 (14000/30504 rows)\u001b[0m\n",
      "\u001b[32m2024-12-18 23:29:43.289\u001b[0m | \u001b[1mINFO    \u001b[0m | \u001b[36mpgsql_search.database\u001b[0m:\u001b[36minsert_dataframe\u001b[0m:\u001b[36m252\u001b[0m - \u001b[1mInserted batch 15 (15000/30504 rows)\u001b[0m\n",
      "\u001b[32m2024-12-18 23:29:43.314\u001b[0m | \u001b[1mINFO    \u001b[0m | \u001b[36mpgsql_search.database\u001b[0m:\u001b[36minsert_dataframe\u001b[0m:\u001b[36m252\u001b[0m - \u001b[1mInserted batch 16 (16000/30504 rows)\u001b[0m\n",
      "\u001b[32m2024-12-18 23:29:43.342\u001b[0m | \u001b[1mINFO    \u001b[0m | \u001b[36mpgsql_search.database\u001b[0m:\u001b[36minsert_dataframe\u001b[0m:\u001b[36m252\u001b[0m - \u001b[1mInserted batch 17 (17000/30504 rows)\u001b[0m\n",
      "\u001b[32m2024-12-18 23:29:43.358\u001b[0m | \u001b[1mINFO    \u001b[0m | \u001b[36mpgsql_search.database\u001b[0m:\u001b[36minsert_dataframe\u001b[0m:\u001b[36m252\u001b[0m - \u001b[1mInserted batch 18 (18000/30504 rows)\u001b[0m\n",
      "\u001b[32m2024-12-18 23:29:43.383\u001b[0m | \u001b[1mINFO    \u001b[0m | \u001b[36mpgsql_search.database\u001b[0m:\u001b[36minsert_dataframe\u001b[0m:\u001b[36m252\u001b[0m - \u001b[1mInserted batch 19 (19000/30504 rows)\u001b[0m\n",
      "\u001b[32m2024-12-18 23:29:43.406\u001b[0m | \u001b[1mINFO    \u001b[0m | \u001b[36mpgsql_search.database\u001b[0m:\u001b[36minsert_dataframe\u001b[0m:\u001b[36m252\u001b[0m - \u001b[1mInserted batch 20 (20000/30504 rows)\u001b[0m\n",
      "\u001b[32m2024-12-18 23:29:43.425\u001b[0m | \u001b[1mINFO    \u001b[0m | \u001b[36mpgsql_search.database\u001b[0m:\u001b[36minsert_dataframe\u001b[0m:\u001b[36m252\u001b[0m - \u001b[1mInserted batch 21 (21000/30504 rows)\u001b[0m\n",
      "\u001b[32m2024-12-18 23:29:43.447\u001b[0m | \u001b[1mINFO    \u001b[0m | \u001b[36mpgsql_search.database\u001b[0m:\u001b[36minsert_dataframe\u001b[0m:\u001b[36m252\u001b[0m - \u001b[1mInserted batch 22 (22000/30504 rows)\u001b[0m\n",
      "\u001b[32m2024-12-18 23:29:43.470\u001b[0m | \u001b[1mINFO    \u001b[0m | \u001b[36mpgsql_search.database\u001b[0m:\u001b[36minsert_dataframe\u001b[0m:\u001b[36m252\u001b[0m - \u001b[1mInserted batch 23 (23000/30504 rows)\u001b[0m\n",
      "\u001b[32m2024-12-18 23:29:43.486\u001b[0m | \u001b[1mINFO    \u001b[0m | \u001b[36mpgsql_search.database\u001b[0m:\u001b[36minsert_dataframe\u001b[0m:\u001b[36m252\u001b[0m - \u001b[1mInserted batch 24 (24000/30504 rows)\u001b[0m\n",
      "\u001b[32m2024-12-18 23:29:43.509\u001b[0m | \u001b[1mINFO    \u001b[0m | \u001b[36mpgsql_search.database\u001b[0m:\u001b[36minsert_dataframe\u001b[0m:\u001b[36m252\u001b[0m - \u001b[1mInserted batch 25 (25000/30504 rows)\u001b[0m\n",
      "\u001b[32m2024-12-18 23:29:43.529\u001b[0m | \u001b[1mINFO    \u001b[0m | \u001b[36mpgsql_search.database\u001b[0m:\u001b[36minsert_dataframe\u001b[0m:\u001b[36m252\u001b[0m - \u001b[1mInserted batch 26 (26000/30504 rows)\u001b[0m\n",
      "\u001b[32m2024-12-18 23:29:43.551\u001b[0m | \u001b[1mINFO    \u001b[0m | \u001b[36mpgsql_search.database\u001b[0m:\u001b[36minsert_dataframe\u001b[0m:\u001b[36m252\u001b[0m - \u001b[1mInserted batch 27 (27000/30504 rows)\u001b[0m\n",
      "\u001b[32m2024-12-18 23:29:43.578\u001b[0m | \u001b[1mINFO    \u001b[0m | \u001b[36mpgsql_search.database\u001b[0m:\u001b[36minsert_dataframe\u001b[0m:\u001b[36m252\u001b[0m - \u001b[1mInserted batch 28 (28000/30504 rows)\u001b[0m\n",
      "\u001b[32m2024-12-18 23:29:43.593\u001b[0m | \u001b[1mINFO    \u001b[0m | \u001b[36mpgsql_search.database\u001b[0m:\u001b[36minsert_dataframe\u001b[0m:\u001b[36m252\u001b[0m - \u001b[1mInserted batch 29 (29000/30504 rows)\u001b[0m\n",
      "\u001b[32m2024-12-18 23:29:43.622\u001b[0m | \u001b[1mINFO    \u001b[0m | \u001b[36mpgsql_search.database\u001b[0m:\u001b[36minsert_dataframe\u001b[0m:\u001b[36m252\u001b[0m - \u001b[1mInserted batch 30 (30000/30504 rows)\u001b[0m\n",
      "\u001b[32m2024-12-18 23:29:43.630\u001b[0m | \u001b[1mINFO    \u001b[0m | \u001b[36mpgsql_search.database\u001b[0m:\u001b[36minsert_dataframe\u001b[0m:\u001b[36m252\u001b[0m - \u001b[1mInserted batch 31 (30504/30504 rows)\u001b[0m\n",
      "\u001b[32m2024-12-18 23:29:43.631\u001b[0m | \u001b[1mINFO    \u001b[0m | \u001b[36mpgsql_search.database\u001b[0m:\u001b[36minsert_dataframe\u001b[0m:\u001b[36m256\u001b[0m - \u001b[1mSuccessfully inserted 30504 rows into image_metadata\u001b[0m\n",
      "\u001b[32m2024-12-18 23:29:43.632\u001b[0m | \u001b[1mINFO    \u001b[0m | \u001b[36mpgsql_search.database\u001b[0m:\u001b[36mdisconnect\u001b[0m:\u001b[36m121\u001b[0m - \u001b[1mDisconnected from database\u001b[0m\n"
     ]
    }
   ],
   "source": [
    "with PostgreSQLDatabase(\"my_database\") as db:\n",
    "    # First, create the table with just an ID column\n",
    "    db.initialize_table(\"image_metadata\")\n",
    "    db.add_column(\"image_filepath\", ColumnType.TEXT, nullable=False)\n",
    "    db.add_column(\"caption\", ColumnType.TEXT, nullable=True)\n",
    "\n",
    "\n",
    "    db.insert_dataframe(df)"
   ]
  },
  {
   "cell_type": "code",
   "execution_count": null,
   "metadata": {},
   "outputs": [],
   "source": []
  },
  {
   "cell_type": "code",
   "execution_count": null,
   "metadata": {},
   "outputs": [],
   "source": []
  }
 ],
 "metadata": {
  "kernelspec": {
   "display_name": "default",
   "language": "python",
   "name": "python3"
  },
  "language_info": {
   "codemirror_mode": {
    "name": "ipython",
    "version": 3
   },
   "file_extension": ".py",
   "mimetype": "text/x-python",
   "name": "python",
   "nbconvert_exporter": "python",
   "pygments_lexer": "ipython3",
   "version": "3.12.8"
  }
 },
 "nbformat": 4,
 "nbformat_minor": 2
}

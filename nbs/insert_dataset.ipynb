{
 "cells": [
  {
   "cell_type": "code",
   "execution_count": 1,
   "metadata": {},
   "outputs": [
    {
     "name": "stderr",
     "output_type": "stream",
     "text": [
      "\u001b[32m2024-12-18 17:38:29.687\u001b[0m | \u001b[1mINFO    \u001b[0m | \u001b[36mpgsql_search.loader\u001b[0m:\u001b[36m__init__\u001b[0m:\u001b[36m15\u001b[0m - \u001b[1mLoading dataset: UCSC-VLAA/Recap-COCO-30K\u001b[0m\n",
      "\u001b[32m2024-12-18 17:38:29.695\u001b[0m | \u001b[1mINFO    \u001b[0m | \u001b[36mpgsql_search.loader\u001b[0m:\u001b[36msave_images\u001b[0m:\u001b[36m44\u001b[0m - \u001b[1mSaving images to folder: ../data/images100\u001b[0m\n"
     ]
    },
    {
     "data": {
      "application/vnd.jupyter.widget-view+json": {
       "model_id": "b9db491ed13e42528595f081579dfc48",
       "version_major": 2,
       "version_minor": 0
      },
      "text/plain": [
       "Saving images (num_proc=8):   0%|          | 0/100 [00:00<?, ? examples/s]"
      ]
     },
     "metadata": {},
     "output_type": "display_data"
    },
    {
     "data": {
      "text/plain": [
       "Dataset({\n",
       "    features: ['image_filepath', 'caption'],\n",
       "    num_rows: 100\n",
       "})"
      ]
     },
     "execution_count": 1,
     "metadata": {},
     "output_type": "execute_result"
    }
   ],
   "source": [
    "from pgsql_search.loader import HuggingFaceDatasets\n",
    "\n",
    "ds = HuggingFaceDatasets(\"UCSC-VLAA/Recap-COCO-30K\")\n",
    "ds.dataset = ds.dataset.shuffle()\n",
    "ds = ds.select(list(range(100)))\n",
    "ds.save_images(\"../data/images100\")\n",
    "ds = ds.select_columns([\"image_filepath\", \"caption\"])\n",
    "ds.dataset\n"
   ]
  },
  {
   "cell_type": "code",
   "execution_count": 2,
   "metadata": {},
   "outputs": [
    {
     "data": {
      "text/html": [
       "<div>\n",
       "<style scoped>\n",
       "    .dataframe tbody tr th:only-of-type {\n",
       "        vertical-align: middle;\n",
       "    }\n",
       "\n",
       "    .dataframe tbody tr th {\n",
       "        vertical-align: top;\n",
       "    }\n",
       "\n",
       "    .dataframe thead th {\n",
       "        text-align: right;\n",
       "    }\n",
       "</style>\n",
       "<table border=\"1\" class=\"dataframe\">\n",
       "  <thead>\n",
       "    <tr style=\"text-align: right;\">\n",
       "      <th></th>\n",
       "      <th>image_filepath</th>\n",
       "      <th>caption</th>\n",
       "    </tr>\n",
       "  </thead>\n",
       "  <tbody>\n",
       "    <tr>\n",
       "      <th>0</th>\n",
       "      <td>../data/images100/440793.jpg</td>\n",
       "      <td>a couple of skiers on top of a snowy mountain</td>\n",
       "    </tr>\n",
       "    <tr>\n",
       "      <th>1</th>\n",
       "      <td>../data/images100/340089.jpg</td>\n",
       "      <td>A group of people who are sitting on couches i...</td>\n",
       "    </tr>\n",
       "    <tr>\n",
       "      <th>2</th>\n",
       "      <td>../data/images100/422677.jpg</td>\n",
       "      <td>a boy is riding a skateboard down the street</td>\n",
       "    </tr>\n",
       "    <tr>\n",
       "      <th>3</th>\n",
       "      <td>../data/images100/292033.jpg</td>\n",
       "      <td>A bowl of food with steam rising off it on a g...</td>\n",
       "    </tr>\n",
       "    <tr>\n",
       "      <th>4</th>\n",
       "      <td>../data/images100/265789.jpg</td>\n",
       "      <td>a person standing on a pair of skis  on top of...</td>\n",
       "    </tr>\n",
       "    <tr>\n",
       "      <th>...</th>\n",
       "      <td>...</td>\n",
       "      <td>...</td>\n",
       "    </tr>\n",
       "    <tr>\n",
       "      <th>95</th>\n",
       "      <td>../data/images100/383293.jpg</td>\n",
       "      <td>The ears of this horse are sticking straight up.</td>\n",
       "    </tr>\n",
       "    <tr>\n",
       "      <th>96</th>\n",
       "      <td>../data/images100/546164.jpg</td>\n",
       "      <td>Two zebras standing in the middle of a sandy area</td>\n",
       "    </tr>\n",
       "    <tr>\n",
       "      <th>97</th>\n",
       "      <td>../data/images100/17909.jpg</td>\n",
       "      <td>A refrigerator opened with several food items ...</td>\n",
       "    </tr>\n",
       "    <tr>\n",
       "      <th>98</th>\n",
       "      <td>../data/images100/399764.jpg</td>\n",
       "      <td>A man is walking with a cow who's sporting a r...</td>\n",
       "    </tr>\n",
       "    <tr>\n",
       "      <th>99</th>\n",
       "      <td>../data/images100/500420.jpg</td>\n",
       "      <td>A kite flying in the sky under a blue cloudy sky.</td>\n",
       "    </tr>\n",
       "  </tbody>\n",
       "</table>\n",
       "<p>100 rows × 2 columns</p>\n",
       "</div>"
      ],
      "text/plain": [
       "                  image_filepath  \\\n",
       "0   ../data/images100/440793.jpg   \n",
       "1   ../data/images100/340089.jpg   \n",
       "2   ../data/images100/422677.jpg   \n",
       "3   ../data/images100/292033.jpg   \n",
       "4   ../data/images100/265789.jpg   \n",
       "..                           ...   \n",
       "95  ../data/images100/383293.jpg   \n",
       "96  ../data/images100/546164.jpg   \n",
       "97   ../data/images100/17909.jpg   \n",
       "98  ../data/images100/399764.jpg   \n",
       "99  ../data/images100/500420.jpg   \n",
       "\n",
       "                                              caption  \n",
       "0       a couple of skiers on top of a snowy mountain  \n",
       "1   A group of people who are sitting on couches i...  \n",
       "2        a boy is riding a skateboard down the street  \n",
       "3   A bowl of food with steam rising off it on a g...  \n",
       "4   a person standing on a pair of skis  on top of...  \n",
       "..                                                ...  \n",
       "95  The ears of this horse are sticking straight up.   \n",
       "96  Two zebras standing in the middle of a sandy area  \n",
       "97  A refrigerator opened with several food items ...  \n",
       "98  A man is walking with a cow who's sporting a r...  \n",
       "99  A kite flying in the sky under a blue cloudy sky.  \n",
       "\n",
       "[100 rows x 2 columns]"
      ]
     },
     "execution_count": 2,
     "metadata": {},
     "output_type": "execute_result"
    }
   ],
   "source": [
    "df = ds.dataset.to_pandas()\n",
    "df"
   ]
  },
  {
   "cell_type": "code",
   "execution_count": 3,
   "metadata": {},
   "outputs": [
    {
     "name": "stderr",
     "output_type": "stream",
     "text": [
      "\u001b[32m2024-12-18 17:38:30.191\u001b[0m | \u001b[1mINFO    \u001b[0m | \u001b[36mpgsql_search.database\u001b[0m:\u001b[36mcreate_database\u001b[0m:\u001b[36m296\u001b[0m - \u001b[1mCreated database 'my_database'\u001b[0m\n"
     ]
    }
   ],
   "source": [
    "from pgsql_search.database import PostgreSQLDatabase, ColumnType\n",
    "\n",
    "PostgreSQLDatabase.create_database(\"my_database\")"
   ]
  },
  {
   "cell_type": "code",
   "execution_count": 4,
   "metadata": {},
   "outputs": [
    {
     "name": "stderr",
     "output_type": "stream",
     "text": [
      "\u001b[32m2024-12-18 17:38:30.270\u001b[0m | \u001b[1mINFO    \u001b[0m | \u001b[36mpgsql_search.database\u001b[0m:\u001b[36mconnect\u001b[0m:\u001b[36m86\u001b[0m - \u001b[1mConnected to database\u001b[0m\n",
      "\u001b[32m2024-12-18 17:38:30.283\u001b[0m | \u001b[1mINFO    \u001b[0m | \u001b[36mpgsql_search.database\u001b[0m:\u001b[36msetup_pgvector_extension\u001b[0m:\u001b[36m103\u001b[0m - \u001b[1mpgvector extension initialized\u001b[0m\n",
      "\u001b[32m2024-12-18 17:38:30.287\u001b[0m | \u001b[1mINFO    \u001b[0m | \u001b[36mpgsql_search.database\u001b[0m:\u001b[36minitialize_table\u001b[0m:\u001b[36m125\u001b[0m - \u001b[1mInitialized table 'image_metadata' with ID column 'id'\u001b[0m\n",
      "\u001b[32m2024-12-18 17:38:30.289\u001b[0m | \u001b[1mINFO    \u001b[0m | \u001b[36mpgsql_search.database\u001b[0m:\u001b[36madd_columns\u001b[0m:\u001b[36m174\u001b[0m - \u001b[1mAdded 1 new columns to image_metadata\u001b[0m\n",
      "\u001b[32m2024-12-18 17:38:30.290\u001b[0m | \u001b[1mINFO    \u001b[0m | \u001b[36mpgsql_search.database\u001b[0m:\u001b[36madd_columns\u001b[0m:\u001b[36m174\u001b[0m - \u001b[1mAdded 1 new columns to image_metadata\u001b[0m\n",
      "\u001b[32m2024-12-18 17:38:30.297\u001b[0m | \u001b[1mINFO    \u001b[0m | \u001b[36mpgsql_search.database\u001b[0m:\u001b[36minsert_dataframe\u001b[0m:\u001b[36m226\u001b[0m - \u001b[1mInserted batch 1 (100/100 rows)\u001b[0m\n",
      "\u001b[32m2024-12-18 17:38:30.297\u001b[0m | \u001b[1mINFO    \u001b[0m | \u001b[36mpgsql_search.database\u001b[0m:\u001b[36minsert_dataframe\u001b[0m:\u001b[36m230\u001b[0m - \u001b[1mSuccessfully inserted 100 rows into image_metadata\u001b[0m\n",
      "\u001b[32m2024-12-18 17:38:30.297\u001b[0m | \u001b[1mINFO    \u001b[0m | \u001b[36mpgsql_search.database\u001b[0m:\u001b[36mdisconnect\u001b[0m:\u001b[36m95\u001b[0m - \u001b[1mDisconnected from database\u001b[0m\n"
     ]
    }
   ],
   "source": [
    "with PostgreSQLDatabase(\"my_database\") as db:\n",
    "    # First, create the table with just an ID column\n",
    "    db.initialize_table(\"image_metadata\")\n",
    "    db.add_column(\"image_filepath\", ColumnType.TEXT, nullable=False)\n",
    "    db.add_column(\"caption\", ColumnType.TEXT, nullable=True)\n",
    "\n",
    "\n",
    "    db.insert_dataframe(df)"
   ]
  },
  {
   "cell_type": "code",
   "execution_count": null,
   "metadata": {},
   "outputs": [],
   "source": []
  },
  {
   "cell_type": "code",
   "execution_count": null,
   "metadata": {},
   "outputs": [],
   "source": []
  }
 ],
 "metadata": {
  "kernelspec": {
   "display_name": "default",
   "language": "python",
   "name": "python3"
  },
  "language_info": {
   "codemirror_mode": {
    "name": "ipython",
    "version": 3
   },
   "file_extension": ".py",
   "mimetype": "text/x-python",
   "name": "python",
   "nbconvert_exporter": "python",
   "pygments_lexer": "ipython3",
   "version": "3.12.8"
  }
 },
 "nbformat": 4,
 "nbformat_minor": 2
}

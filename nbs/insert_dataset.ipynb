{
 "cells": [
  {
   "cell_type": "code",
   "execution_count": 1,
   "metadata": {},
   "outputs": [
    {
     "name": "stderr",
     "output_type": "stream",
     "text": [
      "\u001b[32m2024-12-18 16:44:56.675\u001b[0m | \u001b[1mINFO    \u001b[0m | \u001b[36mpgsql_search.loader\u001b[0m:\u001b[36m__init__\u001b[0m:\u001b[36m15\u001b[0m - \u001b[1mLoading dataset: UCSC-VLAA/Recap-COCO-30K\u001b[0m\n",
      "\u001b[32m2024-12-18 16:44:56.683\u001b[0m | \u001b[1mINFO    \u001b[0m | \u001b[36mpgsql_search.loader\u001b[0m:\u001b[36msave_images\u001b[0m:\u001b[36m44\u001b[0m - \u001b[1mSaving images to folder: ../data/images10\u001b[0m\n"
     ]
    },
    {
     "data": {
      "application/vnd.jupyter.widget-view+json": {
       "model_id": "673bf1eddd71472fa25f9ad3823e4933",
       "version_major": 2,
       "version_minor": 0
      },
      "text/plain": [
       "Saving images (num_proc=8):   0%|          | 0/10 [00:00<?, ? examples/s]"
      ]
     },
     "metadata": {},
     "output_type": "display_data"
    },
    {
     "data": {
      "text/plain": [
       "Dataset({\n",
       "    features: ['image_filepath', 'caption'],\n",
       "    num_rows: 10\n",
       "})"
      ]
     },
     "execution_count": 1,
     "metadata": {},
     "output_type": "execute_result"
    }
   ],
   "source": [
    "from pgsql_search.loader import HuggingFaceDatasets\n",
    "\n",
    "ds = HuggingFaceDatasets(\"UCSC-VLAA/Recap-COCO-30K\")\n",
    "ds.dataset = ds.dataset.shuffle()\n",
    "ds = ds.select(list(range(10)))\n",
    "ds.save_images(\"../data/images10\")\n",
    "ds = ds.select_columns([\"image_filepath\", \"caption\"])\n",
    "ds.dataset\n"
   ]
  },
  {
   "cell_type": "code",
   "execution_count": 2,
   "metadata": {},
   "outputs": [
    {
     "data": {
      "text/html": [
       "<div>\n",
       "<style scoped>\n",
       "    .dataframe tbody tr th:only-of-type {\n",
       "        vertical-align: middle;\n",
       "    }\n",
       "\n",
       "    .dataframe tbody tr th {\n",
       "        vertical-align: top;\n",
       "    }\n",
       "\n",
       "    .dataframe thead th {\n",
       "        text-align: right;\n",
       "    }\n",
       "</style>\n",
       "<table border=\"1\" class=\"dataframe\">\n",
       "  <thead>\n",
       "    <tr style=\"text-align: right;\">\n",
       "      <th></th>\n",
       "      <th>image_filepath</th>\n",
       "      <th>caption</th>\n",
       "    </tr>\n",
       "  </thead>\n",
       "  <tbody>\n",
       "    <tr>\n",
       "      <th>0</th>\n",
       "      <td>../data/images10/243158.jpg</td>\n",
       "      <td>The living room has a open feel to it</td>\n",
       "    </tr>\n",
       "    <tr>\n",
       "      <th>1</th>\n",
       "      <td>../data/images10/77889.jpg</td>\n",
       "      <td>an image of a plate of food with drinks</td>\n",
       "    </tr>\n",
       "    <tr>\n",
       "      <th>2</th>\n",
       "      <td>../data/images10/500752.jpg</td>\n",
       "      <td>Two elephants in the water interacting with on...</td>\n",
       "    </tr>\n",
       "    <tr>\n",
       "      <th>3</th>\n",
       "      <td>../data/images10/280008.jpg</td>\n",
       "      <td>Several people that are playing in a frisbee g...</td>\n",
       "    </tr>\n",
       "    <tr>\n",
       "      <th>4</th>\n",
       "      <td>../data/images10/258793.jpg</td>\n",
       "      <td>a number of buildings in the distance</td>\n",
       "    </tr>\n",
       "    <tr>\n",
       "      <th>5</th>\n",
       "      <td>../data/images10/194555.jpg</td>\n",
       "      <td>A sign that says Church Avenue in front of a f...</td>\n",
       "    </tr>\n",
       "    <tr>\n",
       "      <th>6</th>\n",
       "      <td>../data/images10/295269.jpg</td>\n",
       "      <td>a bunch of stacked cookies on a table</td>\n",
       "    </tr>\n",
       "    <tr>\n",
       "      <th>7</th>\n",
       "      <td>../data/images10/296564.jpg</td>\n",
       "      <td>Someone in a blue shirt and calf-high pants is...</td>\n",
       "    </tr>\n",
       "    <tr>\n",
       "      <th>8</th>\n",
       "      <td>../data/images10/138503.jpg</td>\n",
       "      <td>A man in a uniform and helmet rides a motorcyc...</td>\n",
       "    </tr>\n",
       "    <tr>\n",
       "      <th>9</th>\n",
       "      <td>../data/images10/289813.jpg</td>\n",
       "      <td>a young boy sits in the grass outside</td>\n",
       "    </tr>\n",
       "  </tbody>\n",
       "</table>\n",
       "</div>"
      ],
      "text/plain": [
       "                image_filepath  \\\n",
       "0  ../data/images10/243158.jpg   \n",
       "1   ../data/images10/77889.jpg   \n",
       "2  ../data/images10/500752.jpg   \n",
       "3  ../data/images10/280008.jpg   \n",
       "4  ../data/images10/258793.jpg   \n",
       "5  ../data/images10/194555.jpg   \n",
       "6  ../data/images10/295269.jpg   \n",
       "7  ../data/images10/296564.jpg   \n",
       "8  ../data/images10/138503.jpg   \n",
       "9  ../data/images10/289813.jpg   \n",
       "\n",
       "                                             caption  \n",
       "0              The living room has a open feel to it  \n",
       "1            an image of a plate of food with drinks  \n",
       "2  Two elephants in the water interacting with on...  \n",
       "3  Several people that are playing in a frisbee g...  \n",
       "4             a number of buildings in the distance   \n",
       "5  A sign that says Church Avenue in front of a f...  \n",
       "6              a bunch of stacked cookies on a table  \n",
       "7  Someone in a blue shirt and calf-high pants is...  \n",
       "8  A man in a uniform and helmet rides a motorcyc...  \n",
       "9              a young boy sits in the grass outside  "
      ]
     },
     "execution_count": 2,
     "metadata": {},
     "output_type": "execute_result"
    }
   ],
   "source": [
    "df = ds.dataset.to_pandas()\n",
    "df"
   ]
  },
  {
   "cell_type": "code",
   "execution_count": 3,
   "metadata": {},
   "outputs": [],
   "source": [
    "from pgsql_search.database import PostgreSQLDatabase, ColumnType"
   ]
  },
  {
   "cell_type": "code",
   "execution_count": 4,
   "metadata": {},
   "outputs": [
    {
     "name": "stderr",
     "output_type": "stream",
     "text": [
      "\u001b[32m2024-12-18 16:44:57.135\u001b[0m | \u001b[1mINFO    \u001b[0m | \u001b[36mpgsql_search.database\u001b[0m:\u001b[36mconnect\u001b[0m:\u001b[36m87\u001b[0m - \u001b[1mConnected to database\u001b[0m\n",
      "\u001b[32m2024-12-18 16:44:57.142\u001b[0m | \u001b[1mINFO    \u001b[0m | \u001b[36mpgsql_search.database\u001b[0m:\u001b[36msetup_pgvector_extension\u001b[0m:\u001b[36m104\u001b[0m - \u001b[1mpgvector extension initialized\u001b[0m\n",
      "\u001b[32m2024-12-18 16:44:57.148\u001b[0m | \u001b[1mINFO    \u001b[0m | \u001b[36mpgsql_search.database\u001b[0m:\u001b[36minitialize_table\u001b[0m:\u001b[36m126\u001b[0m - \u001b[1mInitialized table 'image_metadata' with ID column 'id'\u001b[0m\n",
      "\u001b[32m2024-12-18 16:44:57.151\u001b[0m | \u001b[1mINFO    \u001b[0m | \u001b[36mpgsql_search.database\u001b[0m:\u001b[36madd_columns\u001b[0m:\u001b[36m175\u001b[0m - \u001b[1mAdded 1 new columns to image_metadata\u001b[0m\n",
      "\u001b[32m2024-12-18 16:44:57.153\u001b[0m | \u001b[1mINFO    \u001b[0m | \u001b[36mpgsql_search.database\u001b[0m:\u001b[36madd_columns\u001b[0m:\u001b[36m175\u001b[0m - \u001b[1mAdded 1 new columns to image_metadata\u001b[0m\n",
      "\u001b[32m2024-12-18 16:44:57.161\u001b[0m | \u001b[1mINFO    \u001b[0m | \u001b[36mpgsql_search.database\u001b[0m:\u001b[36minsert_dataframe\u001b[0m:\u001b[36m227\u001b[0m - \u001b[1mInserted batch 1 (10/10 rows)\u001b[0m\n",
      "\u001b[32m2024-12-18 16:44:57.162\u001b[0m | \u001b[1mINFO    \u001b[0m | \u001b[36mpgsql_search.database\u001b[0m:\u001b[36minsert_dataframe\u001b[0m:\u001b[36m231\u001b[0m - \u001b[1mSuccessfully inserted 10 rows into image_metadata\u001b[0m\n",
      "\u001b[32m2024-12-18 16:44:57.163\u001b[0m | \u001b[1mINFO    \u001b[0m | \u001b[36mpgsql_search.database\u001b[0m:\u001b[36mdisconnect\u001b[0m:\u001b[36m96\u001b[0m - \u001b[1mDisconnected from database\u001b[0m\n"
     ]
    }
   ],
   "source": [
    "with PostgreSQLDatabase(\"retrieval_db\") as db:\n",
    "    # First, create the table with just an ID column\n",
    "    db.initialize_table(\"image_metadata\")\n",
    "    db.add_column(\"image_filepath\", ColumnType.TEXT, nullable=False)\n",
    "    db.add_column(\"caption\", ColumnType.TEXT, nullable=True)\n",
    "\n",
    "\n",
    "    db.insert_dataframe(df)"
   ]
  },
  {
   "cell_type": "code",
   "execution_count": null,
   "metadata": {},
   "outputs": [],
   "source": []
  },
  {
   "cell_type": "code",
   "execution_count": null,
   "metadata": {},
   "outputs": [],
   "source": []
  }
 ],
 "metadata": {
  "kernelspec": {
   "display_name": "default",
   "language": "python",
   "name": "python3"
  },
  "language_info": {
   "codemirror_mode": {
    "name": "ipython",
    "version": 3
   },
   "file_extension": ".py",
   "mimetype": "text/x-python",
   "name": "python",
   "nbconvert_exporter": "python",
   "pygments_lexer": "ipython3",
   "version": "3.12.8"
  }
 },
 "nbformat": 4,
 "nbformat_minor": 2
}

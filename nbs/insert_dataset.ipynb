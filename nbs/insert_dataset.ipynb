{
 "cells": [
  {
   "cell_type": "code",
   "execution_count": 1,
   "metadata": {},
   "outputs": [
    {
     "name": "stderr",
     "output_type": "stream",
     "text": [
      "\u001b[32m2024-12-20 17:05:21.969\u001b[0m | \u001b[1mINFO    \u001b[0m | \u001b[36mpgsql_search.loader\u001b[0m:\u001b[36m__init__\u001b[0m:\u001b[36m15\u001b[0m - \u001b[1mLoading dataset: UCSC-VLAA/Recap-COCO-30K\u001b[0m\n",
      "\u001b[32m2024-12-20 17:05:21.970\u001b[0m | \u001b[1mINFO    \u001b[0m | \u001b[36mpgsql_search.loader\u001b[0m:\u001b[36msave_images\u001b[0m:\u001b[36m44\u001b[0m - \u001b[1mSaving images to folder: ../data/images\u001b[0m\n"
     ]
    },
    {
     "data": {
      "text/plain": [
       "Dataset({\n",
       "    features: ['image_filepath', 'caption'],\n",
       "    num_rows: 30504\n",
       "})"
      ]
     },
     "execution_count": 1,
     "metadata": {},
     "output_type": "execute_result"
    }
   ],
   "source": [
    "from pgsql_search.loader import HuggingFaceDatasets\n",
    "\n",
    "ds = HuggingFaceDatasets(\"UCSC-VLAA/Recap-COCO-30K\")\n",
    "# ds.dataset = ds.dataset.shuffle()\n",
    "# ds = ds.select(list(range(100)))\n",
    "ds.save_images(\"../data/images\")\n",
    "ds = ds.select_columns([\"image_filepath\", \"caption\"])\n",
    "ds.dataset\n"
   ]
  },
  {
   "cell_type": "code",
   "execution_count": 2,
   "metadata": {},
   "outputs": [
    {
     "data": {
      "text/html": [
       "<div>\n",
       "<style scoped>\n",
       "    .dataframe tbody tr th:only-of-type {\n",
       "        vertical-align: middle;\n",
       "    }\n",
       "\n",
       "    .dataframe tbody tr th {\n",
       "        vertical-align: top;\n",
       "    }\n",
       "\n",
       "    .dataframe thead th {\n",
       "        text-align: right;\n",
       "    }\n",
       "</style>\n",
       "<table border=\"1\" class=\"dataframe\">\n",
       "  <thead>\n",
       "    <tr style=\"text-align: right;\">\n",
       "      <th></th>\n",
       "      <th>image_filepath</th>\n",
       "      <th>caption</th>\n",
       "    </tr>\n",
       "  </thead>\n",
       "  <tbody>\n",
       "    <tr>\n",
       "      <th>0</th>\n",
       "      <td>/home/dnth/Desktop/pgsql-search/data/images/53...</td>\n",
       "      <td>Several horses with riders crossing a body of ...</td>\n",
       "    </tr>\n",
       "    <tr>\n",
       "      <th>1</th>\n",
       "      <td>/home/dnth/Desktop/pgsql-search/data/images/32...</td>\n",
       "      <td>A woman and a child sit on the floor and inter...</td>\n",
       "    </tr>\n",
       "    <tr>\n",
       "      <th>2</th>\n",
       "      <td>/home/dnth/Desktop/pgsql-search/data/images/21...</td>\n",
       "      <td>There is an open face sandwich and a fork on t...</td>\n",
       "    </tr>\n",
       "    <tr>\n",
       "      <th>3</th>\n",
       "      <td>/home/dnth/Desktop/pgsql-search/data/images/19...</td>\n",
       "      <td>a pillow a bed a table and two books</td>\n",
       "    </tr>\n",
       "    <tr>\n",
       "      <th>4</th>\n",
       "      <td>/home/dnth/Desktop/pgsql-search/data/images/42...</td>\n",
       "      <td>Three elephants in a field next to each other.</td>\n",
       "    </tr>\n",
       "    <tr>\n",
       "      <th>...</th>\n",
       "      <td>...</td>\n",
       "      <td>...</td>\n",
       "    </tr>\n",
       "    <tr>\n",
       "      <th>30499</th>\n",
       "      <td>/home/dnth/Desktop/pgsql-search/data/images/28...</td>\n",
       "      <td>The light shows safe for animal crossing on th...</td>\n",
       "    </tr>\n",
       "    <tr>\n",
       "      <th>30500</th>\n",
       "      <td>/home/dnth/Desktop/pgsql-search/data/images/40...</td>\n",
       "      <td>A crowd of people watching an indoor tennis ma...</td>\n",
       "    </tr>\n",
       "    <tr>\n",
       "      <th>30501</th>\n",
       "      <td>/home/dnth/Desktop/pgsql-search/data/images/52...</td>\n",
       "      <td>A street corner has a sign, and across the str...</td>\n",
       "    </tr>\n",
       "    <tr>\n",
       "      <th>30502</th>\n",
       "      <td>/home/dnth/Desktop/pgsql-search/data/images/13...</td>\n",
       "      <td>motorcycles parked on the side of a road near ...</td>\n",
       "    </tr>\n",
       "    <tr>\n",
       "      <th>30503</th>\n",
       "      <td>/home/dnth/Desktop/pgsql-search/data/images/38...</td>\n",
       "      <td>A man doing pushups with a doughnut in his mouth.</td>\n",
       "    </tr>\n",
       "  </tbody>\n",
       "</table>\n",
       "<p>30504 rows × 2 columns</p>\n",
       "</div>"
      ],
      "text/plain": [
       "                                          image_filepath  \\\n",
       "0      /home/dnth/Desktop/pgsql-search/data/images/53...   \n",
       "1      /home/dnth/Desktop/pgsql-search/data/images/32...   \n",
       "2      /home/dnth/Desktop/pgsql-search/data/images/21...   \n",
       "3      /home/dnth/Desktop/pgsql-search/data/images/19...   \n",
       "4      /home/dnth/Desktop/pgsql-search/data/images/42...   \n",
       "...                                                  ...   \n",
       "30499  /home/dnth/Desktop/pgsql-search/data/images/28...   \n",
       "30500  /home/dnth/Desktop/pgsql-search/data/images/40...   \n",
       "30501  /home/dnth/Desktop/pgsql-search/data/images/52...   \n",
       "30502  /home/dnth/Desktop/pgsql-search/data/images/13...   \n",
       "30503  /home/dnth/Desktop/pgsql-search/data/images/38...   \n",
       "\n",
       "                                                 caption  \n",
       "0      Several horses with riders crossing a body of ...  \n",
       "1      A woman and a child sit on the floor and inter...  \n",
       "2      There is an open face sandwich and a fork on t...  \n",
       "3                   a pillow a bed a table and two books  \n",
       "4         Three elephants in a field next to each other.  \n",
       "...                                                  ...  \n",
       "30499  The light shows safe for animal crossing on th...  \n",
       "30500  A crowd of people watching an indoor tennis ma...  \n",
       "30501  A street corner has a sign, and across the str...  \n",
       "30502  motorcycles parked on the side of a road near ...  \n",
       "30503  A man doing pushups with a doughnut in his mouth.  \n",
       "\n",
       "[30504 rows x 2 columns]"
      ]
     },
     "execution_count": 2,
     "metadata": {},
     "output_type": "execute_result"
    }
   ],
   "source": [
    "df = ds.dataset.to_pandas()\n",
    "df"
   ]
  },
  {
   "cell_type": "code",
   "execution_count": 3,
   "metadata": {},
   "outputs": [
    {
     "name": "stderr",
     "output_type": "stream",
     "text": [
      "\u001b[32m2024-12-20 17:05:22.018\u001b[0m | \u001b[1mINFO    \u001b[0m | \u001b[36mpgsql_search.database\u001b[0m:\u001b[36mcreate_database\u001b[0m:\u001b[36m383\u001b[0m - \u001b[1mDatabase 'my_database' already exists\u001b[0m\n"
     ]
    }
   ],
   "source": [
    "from pgsql_search.database import PostgreSQLDatabase, ColumnType\n",
    "\n",
    "PostgreSQLDatabase.create_database(\"my_database\")"
   ]
  },
  {
   "cell_type": "code",
   "execution_count": 4,
   "metadata": {},
   "outputs": [
    {
     "name": "stderr",
     "output_type": "stream",
     "text": [
      "\u001b[32m2024-12-20 17:05:22.026\u001b[0m | \u001b[1mINFO    \u001b[0m | \u001b[36mpgsql_search.database\u001b[0m:\u001b[36mconnect\u001b[0m:\u001b[36m139\u001b[0m - \u001b[1mConnected to database\u001b[0m\n",
      "\u001b[32m2024-12-20 17:05:22.030\u001b[0m | \u001b[1mINFO    \u001b[0m | \u001b[36mpgsql_search.database\u001b[0m:\u001b[36msetup_pgvector_extension\u001b[0m:\u001b[36m156\u001b[0m - \u001b[1mpgvector extension initialized\u001b[0m\n",
      "\u001b[32m2024-12-20 17:05:22.034\u001b[0m | \u001b[1mINFO    \u001b[0m | \u001b[36mpgsql_search.database\u001b[0m:\u001b[36minitialize_table\u001b[0m:\u001b[36m178\u001b[0m - \u001b[1mInitialized table 'image_metadata' with ID column 'id'\u001b[0m\n",
      "\u001b[32m2024-12-20 17:05:22.036\u001b[0m | \u001b[1mINFO    \u001b[0m | \u001b[36mpgsql_search.database\u001b[0m:\u001b[36madd_columns\u001b[0m:\u001b[36m227\u001b[0m - \u001b[1mAdded 1 new columns [image_filepath] to image_metadata\u001b[0m\n",
      "\u001b[32m2024-12-20 17:05:22.037\u001b[0m | \u001b[1mINFO    \u001b[0m | \u001b[36mpgsql_search.database\u001b[0m:\u001b[36madd_columns\u001b[0m:\u001b[36m227\u001b[0m - \u001b[1mAdded 1 new columns [caption] to image_metadata\u001b[0m\n",
      "\u001b[32m2024-12-20 17:05:22.040\u001b[0m | \u001b[1mINFO    \u001b[0m | \u001b[36mpgsql_search.database\u001b[0m:\u001b[36minsert_dataframe\u001b[0m:\u001b[36m264\u001b[0m - \u001b[1mTable columns: {'id': 'integer', 'image_filepath': 'text', 'caption': 'text'}\u001b[0m\n",
      "\u001b[32m2024-12-20 17:05:22.041\u001b[0m | \u001b[1mINFO    \u001b[0m | \u001b[36mpgsql_search.database\u001b[0m:\u001b[36minsert_dataframe\u001b[0m:\u001b[36m265\u001b[0m - \u001b[1mDataFrame columns: Index(['image_filepath', 'caption'], dtype='object')\u001b[0m\n",
      "\u001b[32m2024-12-20 17:05:22.041\u001b[0m | \u001b[1mINFO    \u001b[0m | \u001b[36mpgsql_search.database\u001b[0m:\u001b[36minsert_dataframe\u001b[0m:\u001b[36m266\u001b[0m - \u001b[1mValid columns to insert: ['image_filepath', 'caption']\u001b[0m\n",
      "\u001b[32m2024-12-20 17:05:22.065\u001b[0m | \u001b[1mINFO    \u001b[0m | \u001b[36mpgsql_search.database\u001b[0m:\u001b[36minsert_dataframe\u001b[0m:\u001b[36m291\u001b[0m - \u001b[1mInserted batch 1 (1000/30504 rows)\u001b[0m\n",
      "\u001b[32m2024-12-20 17:05:22.081\u001b[0m | \u001b[1mINFO    \u001b[0m | \u001b[36mpgsql_search.database\u001b[0m:\u001b[36minsert_dataframe\u001b[0m:\u001b[36m291\u001b[0m - \u001b[1mInserted batch 2 (2000/30504 rows)\u001b[0m\n",
      "\u001b[32m2024-12-20 17:05:22.097\u001b[0m | \u001b[1mINFO    \u001b[0m | \u001b[36mpgsql_search.database\u001b[0m:\u001b[36minsert_dataframe\u001b[0m:\u001b[36m291\u001b[0m - \u001b[1mInserted batch 3 (3000/30504 rows)\u001b[0m\n",
      "\u001b[32m2024-12-20 17:05:22.120\u001b[0m | \u001b[1mINFO    \u001b[0m | \u001b[36mpgsql_search.database\u001b[0m:\u001b[36minsert_dataframe\u001b[0m:\u001b[36m291\u001b[0m - \u001b[1mInserted batch 4 (4000/30504 rows)\u001b[0m\n",
      "\u001b[32m2024-12-20 17:05:22.150\u001b[0m | \u001b[1mINFO    \u001b[0m | \u001b[36mpgsql_search.database\u001b[0m:\u001b[36minsert_dataframe\u001b[0m:\u001b[36m291\u001b[0m - \u001b[1mInserted batch 5 (5000/30504 rows)\u001b[0m\n",
      "\u001b[32m2024-12-20 17:05:22.168\u001b[0m | \u001b[1mINFO    \u001b[0m | \u001b[36mpgsql_search.database\u001b[0m:\u001b[36minsert_dataframe\u001b[0m:\u001b[36m291\u001b[0m - \u001b[1mInserted batch 6 (6000/30504 rows)\u001b[0m\n",
      "\u001b[32m2024-12-20 17:05:22.185\u001b[0m | \u001b[1mINFO    \u001b[0m | \u001b[36mpgsql_search.database\u001b[0m:\u001b[36minsert_dataframe\u001b[0m:\u001b[36m291\u001b[0m - \u001b[1mInserted batch 7 (7000/30504 rows)\u001b[0m\n",
      "\u001b[32m2024-12-20 17:05:22.205\u001b[0m | \u001b[1mINFO    \u001b[0m | \u001b[36mpgsql_search.database\u001b[0m:\u001b[36minsert_dataframe\u001b[0m:\u001b[36m291\u001b[0m - \u001b[1mInserted batch 8 (8000/30504 rows)\u001b[0m\n",
      "\u001b[32m2024-12-20 17:05:22.274\u001b[0m | \u001b[1mINFO    \u001b[0m | \u001b[36mpgsql_search.database\u001b[0m:\u001b[36minsert_dataframe\u001b[0m:\u001b[36m291\u001b[0m - \u001b[1mInserted batch 9 (9000/30504 rows)\u001b[0m\n",
      "\u001b[32m2024-12-20 17:05:22.289\u001b[0m | \u001b[1mINFO    \u001b[0m | \u001b[36mpgsql_search.database\u001b[0m:\u001b[36minsert_dataframe\u001b[0m:\u001b[36m291\u001b[0m - \u001b[1mInserted batch 10 (10000/30504 rows)\u001b[0m\n",
      "\u001b[32m2024-12-20 17:05:22.303\u001b[0m | \u001b[1mINFO    \u001b[0m | \u001b[36mpgsql_search.database\u001b[0m:\u001b[36minsert_dataframe\u001b[0m:\u001b[36m291\u001b[0m - \u001b[1mInserted batch 11 (11000/30504 rows)\u001b[0m\n",
      "\u001b[32m2024-12-20 17:05:22.318\u001b[0m | \u001b[1mINFO    \u001b[0m | \u001b[36mpgsql_search.database\u001b[0m:\u001b[36minsert_dataframe\u001b[0m:\u001b[36m291\u001b[0m - \u001b[1mInserted batch 12 (12000/30504 rows)\u001b[0m\n",
      "\u001b[32m2024-12-20 17:05:22.333\u001b[0m | \u001b[1mINFO    \u001b[0m | \u001b[36mpgsql_search.database\u001b[0m:\u001b[36minsert_dataframe\u001b[0m:\u001b[36m291\u001b[0m - \u001b[1mInserted batch 13 (13000/30504 rows)\u001b[0m\n",
      "\u001b[32m2024-12-20 17:05:22.348\u001b[0m | \u001b[1mINFO    \u001b[0m | \u001b[36mpgsql_search.database\u001b[0m:\u001b[36minsert_dataframe\u001b[0m:\u001b[36m291\u001b[0m - \u001b[1mInserted batch 14 (14000/30504 rows)\u001b[0m\n",
      "\u001b[32m2024-12-20 17:05:22.363\u001b[0m | \u001b[1mINFO    \u001b[0m | \u001b[36mpgsql_search.database\u001b[0m:\u001b[36minsert_dataframe\u001b[0m:\u001b[36m291\u001b[0m - \u001b[1mInserted batch 15 (15000/30504 rows)\u001b[0m\n",
      "\u001b[32m2024-12-20 17:05:22.379\u001b[0m | \u001b[1mINFO    \u001b[0m | \u001b[36mpgsql_search.database\u001b[0m:\u001b[36minsert_dataframe\u001b[0m:\u001b[36m291\u001b[0m - \u001b[1mInserted batch 16 (16000/30504 rows)\u001b[0m\n",
      "\u001b[32m2024-12-20 17:05:22.394\u001b[0m | \u001b[1mINFO    \u001b[0m | \u001b[36mpgsql_search.database\u001b[0m:\u001b[36minsert_dataframe\u001b[0m:\u001b[36m291\u001b[0m - \u001b[1mInserted batch 17 (17000/30504 rows)\u001b[0m\n",
      "\u001b[32m2024-12-20 17:05:22.409\u001b[0m | \u001b[1mINFO    \u001b[0m | \u001b[36mpgsql_search.database\u001b[0m:\u001b[36minsert_dataframe\u001b[0m:\u001b[36m291\u001b[0m - \u001b[1mInserted batch 18 (18000/30504 rows)\u001b[0m\n",
      "\u001b[32m2024-12-20 17:05:22.424\u001b[0m | \u001b[1mINFO    \u001b[0m | \u001b[36mpgsql_search.database\u001b[0m:\u001b[36minsert_dataframe\u001b[0m:\u001b[36m291\u001b[0m - \u001b[1mInserted batch 19 (19000/30504 rows)\u001b[0m\n",
      "\u001b[32m2024-12-20 17:05:22.439\u001b[0m | \u001b[1mINFO    \u001b[0m | \u001b[36mpgsql_search.database\u001b[0m:\u001b[36minsert_dataframe\u001b[0m:\u001b[36m291\u001b[0m - \u001b[1mInserted batch 20 (20000/30504 rows)\u001b[0m\n",
      "\u001b[32m2024-12-20 17:05:22.455\u001b[0m | \u001b[1mINFO    \u001b[0m | \u001b[36mpgsql_search.database\u001b[0m:\u001b[36minsert_dataframe\u001b[0m:\u001b[36m291\u001b[0m - \u001b[1mInserted batch 21 (21000/30504 rows)\u001b[0m\n",
      "\u001b[32m2024-12-20 17:05:22.470\u001b[0m | \u001b[1mINFO    \u001b[0m | \u001b[36mpgsql_search.database\u001b[0m:\u001b[36minsert_dataframe\u001b[0m:\u001b[36m291\u001b[0m - \u001b[1mInserted batch 22 (22000/30504 rows)\u001b[0m\n",
      "\u001b[32m2024-12-20 17:05:22.487\u001b[0m | \u001b[1mINFO    \u001b[0m | \u001b[36mpgsql_search.database\u001b[0m:\u001b[36minsert_dataframe\u001b[0m:\u001b[36m291\u001b[0m - \u001b[1mInserted batch 23 (23000/30504 rows)\u001b[0m\n",
      "\u001b[32m2024-12-20 17:05:22.502\u001b[0m | \u001b[1mINFO    \u001b[0m | \u001b[36mpgsql_search.database\u001b[0m:\u001b[36minsert_dataframe\u001b[0m:\u001b[36m291\u001b[0m - \u001b[1mInserted batch 24 (24000/30504 rows)\u001b[0m\n",
      "\u001b[32m2024-12-20 17:05:22.517\u001b[0m | \u001b[1mINFO    \u001b[0m | \u001b[36mpgsql_search.database\u001b[0m:\u001b[36minsert_dataframe\u001b[0m:\u001b[36m291\u001b[0m - \u001b[1mInserted batch 25 (25000/30504 rows)\u001b[0m\n",
      "\u001b[32m2024-12-20 17:05:22.531\u001b[0m | \u001b[1mINFO    \u001b[0m | \u001b[36mpgsql_search.database\u001b[0m:\u001b[36minsert_dataframe\u001b[0m:\u001b[36m291\u001b[0m - \u001b[1mInserted batch 26 (26000/30504 rows)\u001b[0m\n",
      "\u001b[32m2024-12-20 17:05:22.547\u001b[0m | \u001b[1mINFO    \u001b[0m | \u001b[36mpgsql_search.database\u001b[0m:\u001b[36minsert_dataframe\u001b[0m:\u001b[36m291\u001b[0m - \u001b[1mInserted batch 27 (27000/30504 rows)\u001b[0m\n",
      "\u001b[32m2024-12-20 17:05:22.563\u001b[0m | \u001b[1mINFO    \u001b[0m | \u001b[36mpgsql_search.database\u001b[0m:\u001b[36minsert_dataframe\u001b[0m:\u001b[36m291\u001b[0m - \u001b[1mInserted batch 28 (28000/30504 rows)\u001b[0m\n",
      "\u001b[32m2024-12-20 17:05:22.579\u001b[0m | \u001b[1mINFO    \u001b[0m | \u001b[36mpgsql_search.database\u001b[0m:\u001b[36minsert_dataframe\u001b[0m:\u001b[36m291\u001b[0m - \u001b[1mInserted batch 29 (29000/30504 rows)\u001b[0m\n",
      "\u001b[32m2024-12-20 17:05:22.597\u001b[0m | \u001b[1mINFO    \u001b[0m | \u001b[36mpgsql_search.database\u001b[0m:\u001b[36minsert_dataframe\u001b[0m:\u001b[36m291\u001b[0m - \u001b[1mInserted batch 30 (30000/30504 rows)\u001b[0m\n",
      "\u001b[32m2024-12-20 17:05:22.606\u001b[0m | \u001b[1mINFO    \u001b[0m | \u001b[36mpgsql_search.database\u001b[0m:\u001b[36minsert_dataframe\u001b[0m:\u001b[36m291\u001b[0m - \u001b[1mInserted batch 31 (30504/30504 rows)\u001b[0m\n",
      "\u001b[32m2024-12-20 17:05:22.606\u001b[0m | \u001b[1mINFO    \u001b[0m | \u001b[36mpgsql_search.database\u001b[0m:\u001b[36minsert_dataframe\u001b[0m:\u001b[36m295\u001b[0m - \u001b[1mSuccessfully inserted 30504 rows into image_metadata\u001b[0m\n",
      "\u001b[32m2024-12-20 17:05:22.608\u001b[0m | \u001b[1mINFO    \u001b[0m | \u001b[36mpgsql_search.database\u001b[0m:\u001b[36mdisconnect\u001b[0m:\u001b[36m148\u001b[0m - \u001b[1mDisconnected from database\u001b[0m\n"
     ]
    }
   ],
   "source": [
    "with PostgreSQLDatabase(\"my_database\") as db:\n",
    "    # First, create the table with just an ID column\n",
    "    db.initialize_table(\"image_metadata\")\n",
    "    db.add_column(\"image_filepath\", ColumnType.TEXT, nullable=False)\n",
    "    db.add_column(\"caption\", ColumnType.TEXT, nullable=True)\n",
    "    db.insert_dataframe(df)"
   ]
  },
  {
   "cell_type": "code",
   "execution_count": null,
   "metadata": {},
   "outputs": [],
   "source": []
  },
  {
   "cell_type": "code",
   "execution_count": null,
   "metadata": {},
   "outputs": [],
   "source": []
  }
 ],
 "metadata": {
  "kernelspec": {
   "display_name": "Python 3 (ipykernel)",
   "language": "python",
   "name": "python3"
  },
  "language_info": {
   "codemirror_mode": {
    "name": "ipython",
    "version": 3
   },
   "file_extension": ".py",
   "mimetype": "text/x-python",
   "name": "python",
   "nbconvert_exporter": "python",
   "pygments_lexer": "ipython3",
   "version": "3.12.8"
  }
 },
 "nbformat": 4,
 "nbformat_minor": 4
}

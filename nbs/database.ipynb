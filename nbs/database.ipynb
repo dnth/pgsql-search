{
 "cells": [
  {
   "cell_type": "code",
   "execution_count": 3,
   "metadata": {},
   "outputs": [
    {
     "name": "stderr",
     "output_type": "stream",
     "text": [
      "\u001b[32m2024-12-18 16:25:03.125\u001b[0m | \u001b[1mINFO    \u001b[0m | \u001b[36mpgsql_search.loader\u001b[0m:\u001b[36m__init__\u001b[0m:\u001b[36m15\u001b[0m - \u001b[1mLoading dataset: UCSC-VLAA/Recap-COCO-30K\u001b[0m\n",
      "\u001b[32m2024-12-18 16:25:03.127\u001b[0m | \u001b[1mINFO    \u001b[0m | \u001b[36mpgsql_search.loader\u001b[0m:\u001b[36msave_images\u001b[0m:\u001b[36m44\u001b[0m - \u001b[1mSaving images to folder: ../data/images10\u001b[0m\n"
     ]
    },
    {
     "data": {
      "text/plain": [
       "Dataset({\n",
       "    features: ['image_id', 'image_filepath', 'caption'],\n",
       "    num_rows: 10\n",
       "})"
      ]
     },
     "execution_count": 3,
     "metadata": {},
     "output_type": "execute_result"
    }
   ],
   "source": [
    "from pgsql_search.loader import HuggingFaceDatasets\n",
    "\n",
    "ds = HuggingFaceDatasets(\"UCSC-VLAA/Recap-COCO-30K\")\n",
    "ds = ds.select(list(range(10)))\n",
    "ds.save_images(\"../data/images10\")\n",
    "ds = ds.select_columns([\"image_id\", \"image_filepath\", \"caption\"])\n",
    "ds.dataset\n"
   ]
  },
  {
   "cell_type": "code",
   "execution_count": 4,
   "metadata": {},
   "outputs": [
    {
     "data": {
      "text/html": [
       "<div>\n",
       "<style scoped>\n",
       "    .dataframe tbody tr th:only-of-type {\n",
       "        vertical-align: middle;\n",
       "    }\n",
       "\n",
       "    .dataframe tbody tr th {\n",
       "        vertical-align: top;\n",
       "    }\n",
       "\n",
       "    .dataframe thead th {\n",
       "        text-align: right;\n",
       "    }\n",
       "</style>\n",
       "<table border=\"1\" class=\"dataframe\">\n",
       "  <thead>\n",
       "    <tr style=\"text-align: right;\">\n",
       "      <th></th>\n",
       "      <th>image_id</th>\n",
       "      <th>image_filepath</th>\n",
       "      <th>caption</th>\n",
       "    </tr>\n",
       "  </thead>\n",
       "  <tbody>\n",
       "    <tr>\n",
       "      <th>0</th>\n",
       "      <td>53120</td>\n",
       "      <td>../data/images10/53120.jpg</td>\n",
       "      <td>Several horses with riders crossing a body of ...</td>\n",
       "    </tr>\n",
       "    <tr>\n",
       "      <th>1</th>\n",
       "      <td>325873</td>\n",
       "      <td>../data/images10/325873.jpg</td>\n",
       "      <td>A woman and a child sit on the floor and inter...</td>\n",
       "    </tr>\n",
       "    <tr>\n",
       "      <th>2</th>\n",
       "      <td>217937</td>\n",
       "      <td>../data/images10/217937.jpg</td>\n",
       "      <td>There is an open face sandwich and a fork on t...</td>\n",
       "    </tr>\n",
       "    <tr>\n",
       "      <th>3</th>\n",
       "      <td>196865</td>\n",
       "      <td>../data/images10/196865.jpg</td>\n",
       "      <td>a pillow a bed a table and two books</td>\n",
       "    </tr>\n",
       "    <tr>\n",
       "      <th>4</th>\n",
       "      <td>4229</td>\n",
       "      <td>../data/images10/4229.jpg</td>\n",
       "      <td>Three elephants in a field next to each other.</td>\n",
       "    </tr>\n",
       "    <tr>\n",
       "      <th>5</th>\n",
       "      <td>353028</td>\n",
       "      <td>../data/images10/353028.jpg</td>\n",
       "      <td>A plate of cheese pizza on a dinner table.</td>\n",
       "    </tr>\n",
       "    <tr>\n",
       "      <th>6</th>\n",
       "      <td>539738</td>\n",
       "      <td>../data/images10/539738.jpg</td>\n",
       "      <td>A man in a tie and shirt holding a suitcase an...</td>\n",
       "    </tr>\n",
       "    <tr>\n",
       "      <th>7</th>\n",
       "      <td>155811</td>\n",
       "      <td>../data/images10/155811.jpg</td>\n",
       "      <td>Several people walking on sidewalks with umbre...</td>\n",
       "    </tr>\n",
       "    <tr>\n",
       "      <th>8</th>\n",
       "      <td>431058</td>\n",
       "      <td>../data/images10/431058.jpg</td>\n",
       "      <td>A snow boarder in the air near a couple of pin...</td>\n",
       "    </tr>\n",
       "    <tr>\n",
       "      <th>9</th>\n",
       "      <td>274678</td>\n",
       "      <td>../data/images10/274678.jpg</td>\n",
       "      <td>a giraffe standing along in the woods by its self</td>\n",
       "    </tr>\n",
       "  </tbody>\n",
       "</table>\n",
       "</div>"
      ],
      "text/plain": [
       "   image_id               image_filepath  \\\n",
       "0     53120   ../data/images10/53120.jpg   \n",
       "1    325873  ../data/images10/325873.jpg   \n",
       "2    217937  ../data/images10/217937.jpg   \n",
       "3    196865  ../data/images10/196865.jpg   \n",
       "4      4229    ../data/images10/4229.jpg   \n",
       "5    353028  ../data/images10/353028.jpg   \n",
       "6    539738  ../data/images10/539738.jpg   \n",
       "7    155811  ../data/images10/155811.jpg   \n",
       "8    431058  ../data/images10/431058.jpg   \n",
       "9    274678  ../data/images10/274678.jpg   \n",
       "\n",
       "                                             caption  \n",
       "0  Several horses with riders crossing a body of ...  \n",
       "1  A woman and a child sit on the floor and inter...  \n",
       "2  There is an open face sandwich and a fork on t...  \n",
       "3               a pillow a bed a table and two books  \n",
       "4     Three elephants in a field next to each other.  \n",
       "5         A plate of cheese pizza on a dinner table.  \n",
       "6  A man in a tie and shirt holding a suitcase an...  \n",
       "7  Several people walking on sidewalks with umbre...  \n",
       "8  A snow boarder in the air near a couple of pin...  \n",
       "9  a giraffe standing along in the woods by its self  "
      ]
     },
     "execution_count": 4,
     "metadata": {},
     "output_type": "execute_result"
    }
   ],
   "source": [
    "df = ds.dataset.to_pandas()\n",
    "df"
   ]
  },
  {
   "cell_type": "code",
   "execution_count": 5,
   "metadata": {},
   "outputs": [],
   "source": [
    "from pgsql_search.database import PostgreSQLDatabase, ColumnType"
   ]
  },
  {
   "cell_type": "code",
   "execution_count": 7,
   "metadata": {},
   "outputs": [
    {
     "name": "stderr",
     "output_type": "stream",
     "text": [
      "\u001b[32m2024-12-18 16:26:44.696\u001b[0m | \u001b[1mINFO    \u001b[0m | \u001b[36mpgsql_search.database\u001b[0m:\u001b[36mconnect\u001b[0m:\u001b[36m87\u001b[0m - \u001b[1mConnected to database\u001b[0m\n",
      "\u001b[32m2024-12-18 16:26:44.699\u001b[0m | \u001b[1mINFO    \u001b[0m | \u001b[36mpgsql_search.database\u001b[0m:\u001b[36msetup_pgvector_extension\u001b[0m:\u001b[36m104\u001b[0m - \u001b[1mpgvector extension initialized\u001b[0m\n",
      "\u001b[32m2024-12-18 16:26:44.702\u001b[0m | \u001b[1mINFO    \u001b[0m | \u001b[36mpgsql_search.database\u001b[0m:\u001b[36minitialize_table\u001b[0m:\u001b[36m126\u001b[0m - \u001b[1mInitialized table 'image_metadata' with ID column 'id'\u001b[0m\n",
      "\u001b[32m2024-12-18 16:26:44.704\u001b[0m | \u001b[1mINFO    \u001b[0m | \u001b[36mpgsql_search.database\u001b[0m:\u001b[36madd_columns\u001b[0m:\u001b[36m175\u001b[0m - \u001b[1mAdded 1 new columns to image_metadata\u001b[0m\n",
      "\u001b[32m2024-12-18 16:26:44.705\u001b[0m | \u001b[1mINFO    \u001b[0m | \u001b[36mpgsql_search.database\u001b[0m:\u001b[36madd_columns\u001b[0m:\u001b[36m175\u001b[0m - \u001b[1mAdded 1 new columns to image_metadata\u001b[0m\n",
      "\u001b[32m2024-12-18 16:26:44.709\u001b[0m | \u001b[31m\u001b[1mERROR   \u001b[0m | \u001b[36mpgsql_search.database\u001b[0m:\u001b[36minsert_dataframe\u001b[0m:\u001b[36m241\u001b[0m - \u001b[31m\u001b[1mError inserting data: null value in column \"image_filepaths\" of relation \"image_metadata\" violates not-null constraint\n",
      "DETAIL:  Failing row contains (1, null, Several horses with riders crossing a body of water.).\u001b[0m\n",
      "\u001b[32m2024-12-18 16:26:44.709\u001b[0m | \u001b[1mINFO    \u001b[0m | \u001b[36mpgsql_search.database\u001b[0m:\u001b[36mdisconnect\u001b[0m:\u001b[36m96\u001b[0m - \u001b[1mDisconnected from database\u001b[0m\n",
      "\u001b[32m2024-12-18 16:26:44.710\u001b[0m | \u001b[31m\u001b[1mERROR   \u001b[0m | \u001b[36mpgsql_search.database\u001b[0m:\u001b[36m__exit__\u001b[0m:\u001b[36m79\u001b[0m - \u001b[31m\u001b[1mError: <class 'psycopg.errors.NotNullViolation'> - null value in column \"image_filepaths\" of relation \"image_metadata\" violates not-null constraint\n",
      "DETAIL:  Failing row contains (1, null, Several horses with riders crossing a body of water.).\u001b[0m\n"
     ]
    },
    {
     "ename": "NotNullViolation",
     "evalue": "null value in column \"image_filepaths\" of relation \"image_metadata\" violates not-null constraint\nDETAIL:  Failing row contains (1, null, Several horses with riders crossing a body of water.).",
     "output_type": "error",
     "traceback": [
      "\u001b[0;31m---------------------------------------------------------------------------\u001b[0m",
      "\u001b[0;31mNotNullViolation\u001b[0m                          Traceback (most recent call last)",
      "Cell \u001b[0;32mIn[7], line 8\u001b[0m\n\u001b[1;32m      4\u001b[0m db\u001b[38;5;241m.\u001b[39madd_column(\u001b[38;5;124m\"\u001b[39m\u001b[38;5;124mimage_filepaths\u001b[39m\u001b[38;5;124m\"\u001b[39m, ColumnType\u001b[38;5;241m.\u001b[39mTEXT, nullable\u001b[38;5;241m=\u001b[39m\u001b[38;5;28;01mFalse\u001b[39;00m)\n\u001b[1;32m      5\u001b[0m db\u001b[38;5;241m.\u001b[39madd_column(\u001b[38;5;124m\"\u001b[39m\u001b[38;5;124mcaption\u001b[39m\u001b[38;5;124m\"\u001b[39m, ColumnType\u001b[38;5;241m.\u001b[39mTEXT, nullable\u001b[38;5;241m=\u001b[39m\u001b[38;5;28;01mTrue\u001b[39;00m)\n\u001b[0;32m----> 8\u001b[0m \u001b[43mdb\u001b[49m\u001b[38;5;241;43m.\u001b[39;49m\u001b[43minsert_dataframe\u001b[49m\u001b[43m(\u001b[49m\u001b[43mdf\u001b[49m\u001b[43m)\u001b[49m\n",
      "File \u001b[0;32m~/Desktop/pgsql-search/src/pgsql_search/database.py:225\u001b[0m, in \u001b[0;36mPostgreSQLDatabase.insert_dataframe\u001b[0;34m(self, df, batch_size)\u001b[0m\n\u001b[1;32m    223\u001b[0m \u001b[38;5;28;01mfor\u001b[39;00m i \u001b[38;5;129;01min\u001b[39;00m \u001b[38;5;28mrange\u001b[39m(\u001b[38;5;241m0\u001b[39m, total_rows, batch_size):\n\u001b[1;32m    224\u001b[0m     batch \u001b[38;5;241m=\u001b[39m data[i : i \u001b[38;5;241m+\u001b[39m batch_size]\n\u001b[0;32m--> 225\u001b[0m     \u001b[38;5;28;43mself\u001b[39;49m\u001b[38;5;241;43m.\u001b[39;49m\u001b[43mcur\u001b[49m\u001b[38;5;241;43m.\u001b[39;49m\u001b[43mexecutemany\u001b[49m\u001b[43m(\u001b[49m\u001b[43minsert_sql\u001b[49m\u001b[43m,\u001b[49m\u001b[43m \u001b[49m\u001b[43mbatch\u001b[49m\u001b[43m)\u001b[49m\n\u001b[1;32m    226\u001b[0m     \u001b[38;5;28mself\u001b[39m\u001b[38;5;241m.\u001b[39mconn\u001b[38;5;241m.\u001b[39mcommit()\n\u001b[1;32m    227\u001b[0m     logger\u001b[38;5;241m.\u001b[39minfo(\n\u001b[1;32m    228\u001b[0m         \u001b[38;5;124mf\u001b[39m\u001b[38;5;124m\"\u001b[39m\u001b[38;5;124mInserted batch \u001b[39m\u001b[38;5;132;01m{\u001b[39;00mi\u001b[38;5;241m/\u001b[39m\u001b[38;5;241m/\u001b[39mbatch_size\u001b[38;5;250m \u001b[39m\u001b[38;5;241m+\u001b[39m\u001b[38;5;250m \u001b[39m\u001b[38;5;241m1\u001b[39m\u001b[38;5;132;01m}\u001b[39;00m\u001b[38;5;124m (\u001b[39m\u001b[38;5;132;01m{\u001b[39;00m\u001b[38;5;28mmin\u001b[39m(i\u001b[38;5;250m \u001b[39m\u001b[38;5;241m+\u001b[39m\u001b[38;5;250m \u001b[39mbatch_size,\u001b[38;5;250m \u001b[39mtotal_rows)\u001b[38;5;132;01m}\u001b[39;00m\u001b[38;5;124m/\u001b[39m\u001b[38;5;132;01m{\u001b[39;00mtotal_rows\u001b[38;5;132;01m}\u001b[39;00m\u001b[38;5;124m rows)\u001b[39m\u001b[38;5;124m\"\u001b[39m\n\u001b[1;32m    229\u001b[0m     )\n",
      "File \u001b[0;32m~/Desktop/pgsql-search/.pixi/envs/default/lib/python3.12/site-packages/psycopg/cursor.py:128\u001b[0m, in \u001b[0;36mCursor.executemany\u001b[0;34m(self, query, params_seq, returning)\u001b[0m\n\u001b[1;32m    124\u001b[0m             \u001b[38;5;28mself\u001b[39m\u001b[38;5;241m.\u001b[39m_conn\u001b[38;5;241m.\u001b[39mwait(\n\u001b[1;32m    125\u001b[0m                 \u001b[38;5;28mself\u001b[39m\u001b[38;5;241m.\u001b[39m_executemany_gen_no_pipeline(query, params_seq, returning)\n\u001b[1;32m    126\u001b[0m             )\n\u001b[1;32m    127\u001b[0m \u001b[38;5;28;01mexcept\u001b[39;00m e\u001b[38;5;241m.\u001b[39m_NO_TRACEBACK \u001b[38;5;28;01mas\u001b[39;00m ex:\n\u001b[0;32m--> 128\u001b[0m     \u001b[38;5;28;01mraise\u001b[39;00m ex\u001b[38;5;241m.\u001b[39mwith_traceback(\u001b[38;5;28;01mNone\u001b[39;00m)\n",
      "\u001b[0;31mNotNullViolation\u001b[0m: null value in column \"image_filepaths\" of relation \"image_metadata\" violates not-null constraint\nDETAIL:  Failing row contains (1, null, Several horses with riders crossing a body of water.)."
     ]
    }
   ],
   "source": [
    "with PostgreSQLDatabase(\"retrieval_db\") as db:\n",
    "    # First, create the table with just an ID column\n",
    "    db.initialize_table(\"image_metadata\")\n",
    "    db.add_column(\"image_filepath\", ColumnType.TEXT, nullable=False)\n",
    "    db.add_column(\"caption\", ColumnType.TEXT, nullable=True)\n",
    "\n",
    "\n",
    "    db.insert_dataframe(df)"
   ]
  },
  {
   "cell_type": "code",
   "execution_count": null,
   "metadata": {},
   "outputs": [],
   "source": []
  },
  {
   "cell_type": "code",
   "execution_count": null,
   "metadata": {},
   "outputs": [],
   "source": []
  }
 ],
 "metadata": {
  "kernelspec": {
   "display_name": "default",
   "language": "python",
   "name": "python3"
  },
  "language_info": {
   "codemirror_mode": {
    "name": "ipython",
    "version": 3
   },
   "file_extension": ".py",
   "mimetype": "text/x-python",
   "name": "python",
   "nbconvert_exporter": "python",
   "pygments_lexer": "ipython3",
   "version": "3.12.8"
  }
 },
 "nbformat": 4,
 "nbformat_minor": 2
}
